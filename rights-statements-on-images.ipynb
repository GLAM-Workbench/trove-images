{
 "cells": [
  {
   "cell_type": "markdown",
   "metadata": {},
   "source": [
    "# The use of standard licences and rights statements in Trove image records\n",
    "\n",
    "Version [2.1 of the Trove API](https://help.nla.gov.au/trove/building-with-trove/api-version-2-technical-guide) introduced a new `rights` index that you can use to limit your search results to records that include one of the licences and rights statements [listed on this page](https://help.nla.gov.au/trove/becoming-partner/for-content-partners/licensing-reuse). We can also use this index to build a picture of which rights statements are currently being used, and by who. Let's give it a try...\n",
    "\n",
    "The method used here is to:\n",
    "\n",
    "* Retrieve details of Trove contributors from the API\n",
    "* Loop through the contributors, then loop through all the licences/rights statements, firing off a search in the `picture` zone for each combination.\n",
    "* Save the total results for each query with the contributor and licence details.\n",
    "\n",
    "So for every organisation that contributes records to Trove, we'll find out the number of image records that include each rights statement. \n",
    "\n",
    "Problems:\n",
    "\n",
    "* Searching by contributor saves us having to harvest **all** the images, but it has a major problem. Sometimes Trove will group multiple versions of a picture held by different organisations as a single work. Rights information is saved in the version metadata, but searches only return works. So if one organisation has assigned a rights statement to a version of the image, it will look like all the organisations whose images are grouped together with it as a work are using that rights statement. I don't think this will make a huge difference to the results, but it will be something to look out for. The only way around this is to harvest everything and expand the versions out into separate record.\n",
    "\n",
    "* The `rights` index doesn't currently seem to include information on out of copyright images, unless they've actually been marked using the 'Public Domain' statement by the institution. Common statements such as 'Out of copyright', 'No known copyright restrictions', or 'Copyright expired' return no results. So there's a lot more open images than are currently reported by the rights index.\n"
   ]
  },
  {
   "cell_type": "code",
   "execution_count": null,
   "metadata": {},
   "outputs": [],
   "source": [
    "import requests\n",
    "import time\n",
    "from tqdm.notebook import tqdm\n",
    "import pandas as pd\n",
    "from IPython.display import FileLink"
   ]
  },
  {
   "cell_type": "code",
   "execution_count": 161,
   "metadata": {},
   "outputs": [],
   "source": [
    "# These are all the licence/rights statements recognised by Trove \n",
    "# Copied from https://help.nla.gov.au/trove/becoming-partner/for-content-partners/licensing-reuse\n",
    "licences = [\n",
    "    'Free/CC Public Domain',\n",
    "    'Free/CC BY',\n",
    "    'Free/CC0',\n",
    "    'Free/RS NKC',\n",
    "    'Free/RS Noc-US',\n",
    "    'Free with conditions/CC BY-ND',\n",
    "    'Free with conditions/CC BY-SA',\n",
    "    'Free with conditions/CC BY-NC',\n",
    "    'Free with conditions/CC BY-NC-ND',\n",
    "    'Free with conditions/CC BY-NC-SA',\n",
    "    'Free with conditions/RS NoC-NC',\n",
    "    'Free with conditions/InC-NC',\n",
    "    'Free with conditions/InC-EDU',\n",
    "    'Restricted/RS InC',\n",
    "    'Restricted/RS InC-OW-EU',\n",
    "    'Restricted/RS InC-RUU',\n",
    "    'Restricted/RS CNE',\n",
    "    'Restricted/RS UND',\n",
    "    'Restricted/NoC-CR',\n",
    "    'Restricted/NoC-OKLR'\n",
    "]"
   ]
  },
  {
   "cell_type": "code",
   "execution_count": 162,
   "metadata": {},
   "outputs": [],
   "source": [
    "API_KEY = 'INSERT YOUR API KEY'"
   ]
  },
  {
   "cell_type": "code",
   "execution_count": 163,
   "metadata": {},
   "outputs": [],
   "source": [
    "def save_summary(contributors, record, parent=None):\n",
    "    '''\n",
    "    Extract basic data from contributor record, and traverse any child records.\n",
    "    Create a full_name value by combining parent and child names.\n",
    "    '''\n",
    "    summary = {\n",
    "        'id': record['id'],\n",
    "        'name': record['name']\n",
    "    }        \n",
    "    if parent:\n",
    "        summary['parent_id'] = parent['id']\n",
    "        summary['full_name'] = f'{parent[\"full_name\"]} / {record[\"name\"]}'\n",
    "    elif 'parent' in  record:\n",
    "        summary['parent_id'] = record['parent']['id']\n",
    "        summary['full_name'] = f'{record[\"parent\"][\"value\"]} / {record[\"name\"]}'\n",
    "    else:\n",
    "        summary['full_name'] = record['name']\n",
    "    if 'children' in record:\n",
    "        for child in record['children']['contributor']:\n",
    "            save_summary(contributors, child, summary)\n",
    "    contributors.append(summary)\n",
    "    \n",
    "def get_contributors():\n",
    "    '''\n",
    "    Get a list of contributors form the Trove API.\n",
    "    Flatten all the nested records.\n",
    "    '''\n",
    "    contributors = []\n",
    "    contrib_params = {\n",
    "        'key': API_KEY,\n",
    "        'encoding': 'json',\n",
    "        'reclevel': 'full'\n",
    "    }\n",
    "    response = requests.get('https://api.trove.nla.gov.au/v2/contributor/', params=contrib_params)\n",
    "    data = response.json()\n",
    "    for record in data['response']['contributor']:\n",
    "        save_summary(contributors, record)\n",
    "    return contributors\n",
    "    "
   ]
  },
  {
   "cell_type": "code",
   "execution_count": 185,
   "metadata": {},
   "outputs": [],
   "source": [
    "def contributor_has_results(contrib, params, additional_query):\n",
    "    '''\n",
    "    Check to see is the query return any results for this contributor.\n",
    "    '''\n",
    "    query = f'nuc:\"{contrib[\"id\"]}\"'\n",
    "    # Add any extra queries\n",
    "    if additional_query:\n",
    "        query += f' {additional_query}'\n",
    "    params['q'] = query\n",
    "    response = requests.get('https://api.trove.nla.gov.au/v2/result', params=params)\n",
    "    data = response.json()\n",
    "    total = int(data['response']['zone'][0]['records']['total'])\n",
    "    if total > 0:\n",
    "        return True\n",
    "\n",
    "def licence_counts_by_institution(additional_query=None):\n",
    "    '''\n",
    "    Loop through contributors and licences to harvest data about the number of times each licence is used.\n",
    "    '''\n",
    "    contributors = get_contributors()\n",
    "    licence_counts = []\n",
    "    params = {\n",
    "        'key': API_KEY,\n",
    "        'encoding': 'json',\n",
    "        'zone': 'picture',\n",
    "        'n': 0\n",
    "    }    \n",
    "    for contrib in tqdm(contributors):\n",
    "        # If there are no results for this contributor then there's no point checking for licences\n",
    "        # This should save a bit of time\n",
    "        if contributor_has_results(contrib, params, additional_query):\n",
    "            contrib_row = contrib.copy()\n",
    "            # Only search for nuc ids that start with a letter\n",
    "            if contrib['id'][0].isalpha():\n",
    "                for licence in licences:\n",
    "                    # Construct query using nuc id and licence\n",
    "                    query = f'nuc:\"{contrib[\"id\"]}\" rights:\"{licence}\"'\n",
    "                    # Add any extra queries\n",
    "                    if additional_query:\n",
    "                        query += f' {additional_query}'\n",
    "                    params['q'] = query\n",
    "                    response = requests.get('https://api.trove.nla.gov.au/v2/result', params=params)\n",
    "                    data = response.json()\n",
    "                    total = data['response']['zone'][0]['records']['total']\n",
    "                    contrib_row[licence] = int(total)\n",
    "                    time.sleep(0.2)\n",
    "            # print(contrib_row)\n",
    "            licence_counts.append(contrib_row)\n",
    "    return licence_counts"
   ]
  },
  {
   "cell_type": "code",
   "execution_count": 186,
   "metadata": {},
   "outputs": [
    {
     "data": {
      "application/vnd.jupyter.widget-view+json": {
       "model_id": "5e8e2e94e5a34d3ca06b5568d718ba41",
       "version_major": 2,
       "version_minor": 0
      },
      "text/plain": [
       "HBox(children=(FloatProgress(value=0.0, max=2732.0), HTML(value='')))"
      ]
     },
     "metadata": {},
     "output_type": "display_data"
    },
    {
     "name": "stdout",
     "output_type": "stream",
     "text": [
      "\n"
     ]
    }
   ],
   "source": [
    "licence_counts_not_books = licence_counts_by_institution('NOT format:\"Book\"')"
   ]
  },
  {
   "cell_type": "markdown",
   "metadata": {},
   "source": [
    "## Process the data"
   ]
  },
  {
   "cell_type": "code",
   "execution_count": 187,
   "metadata": {},
   "outputs": [],
   "source": [
    "df = pd.DataFrame(licence_counts_not_books)"
   ]
  },
  {
   "cell_type": "code",
   "execution_count": 188,
   "metadata": {},
   "outputs": [],
   "source": [
    "# Fill empty totals with zeros & make them all integers\n",
    "df[licences] = df[licences].fillna(0).astype(int)"
   ]
  },
  {
   "cell_type": "code",
   "execution_count": 189,
   "metadata": {},
   "outputs": [
    {
     "data": {
      "text/plain": [
       "Free with conditions/CC BY-NC                                                   21962\n",
       "Free with conditions/CC BY-NC-ND                                                26067\n",
       "Free with conditions/CC BY-NC-SA                                                82315\n",
       "Free with conditions/CC BY-ND                                                       0\n",
       "Free with conditions/CC BY-SA                                                   16801\n",
       "Free with conditions/InC-EDU                                                     4381\n",
       "Free with conditions/InC-NC                                                         0\n",
       "Free with conditions/RS NoC-NC                                                      0\n",
       "Free/CC BY                                                                     146001\n",
       "Free/CC Public Domain                                                          267425\n",
       "Free/CC0                                                                          581\n",
       "Free/RS NKC                                                                      1391\n",
       "Free/RS Noc-US                                                                      0\n",
       "Restricted/NoC-CR                                                                   0\n",
       "Restricted/NoC-OKLR                                                                 0\n",
       "Restricted/RS CNE                                                               15093\n",
       "Restricted/RS InC                                                               19144\n",
       "Restricted/RS InC-OW-EU                                                             0\n",
       "Restricted/RS InC-RUU                                                               1\n",
       "Restricted/RS UND                                                                 422\n",
       "full_name                           4th/19th Prince of Wales'  Light Horse Regimen...\n",
       "id                                  VPWLHADFAACTSACSASACCSAHSTWLQAATVAPRCNALB:DCNA...\n",
       "name                                4th/19th Prince of Wales'  Light Horse Regimen...\n",
       "dtype: object"
      ]
     },
     "execution_count": 189,
     "metadata": {},
     "output_type": "execute_result"
    }
   ],
   "source": [
    "# Check the overall distribution of rights statements\n",
    "df.sum()"
   ]
  },
  {
   "cell_type": "code",
   "execution_count": 190,
   "metadata": {},
   "outputs": [],
   "source": [
    "# Remove columns we don't need\n",
    "df_final = df[['id', 'full_name'] + licences]"
   ]
  },
  {
   "cell_type": "code",
   "execution_count": 191,
   "metadata": {},
   "outputs": [],
   "source": [
    "# Remove rows that add up to zero\n",
    "df_final = df_final.loc[(df_final.sum(axis=1) != 0)]"
   ]
  },
  {
   "cell_type": "code",
   "execution_count": 192,
   "metadata": {},
   "outputs": [],
   "source": [
    "# Remove columns that are all zero\n",
    "df_final = df_final.loc[:, df_final.any()]"
   ]
  },
  {
   "cell_type": "code",
   "execution_count": 193,
   "metadata": {},
   "outputs": [],
   "source": [
    "# Sort by name and save as CSV\n",
    "df_final.sort_values(by=['full_name']).to_csv('rights-on-images.csv', index=False)"
   ]
  },
  {
   "cell_type": "markdown",
   "metadata": {},
   "source": [
    "See the results here:\n",
    "\n",
    "* [rights-on-images.csv](rights-on-images.csv)"
   ]
  },
  {
   "cell_type": "markdown",
   "metadata": {},
   "source": [
    "## Are there any licences applied to out-of-copyright images?\n",
    "\n",
    "Some GLAM institutions have an annoying habit of applying licences to out-of-copyright images. Under Australian copyright law, photographs created before 1955 are out of copytright, so we can adjust our query and look for licences on them."
   ]
  },
  {
   "cell_type": "code",
   "execution_count": null,
   "metadata": {},
   "outputs": [
    {
     "data": {
      "application/vnd.jupyter.widget-view+json": {
       "model_id": "48dedfcccb134f55b7ce8a06a70af26a",
       "version_major": 2,
       "version_minor": 0
      },
      "text/plain": [
       "HBox(children=(FloatProgress(value=0.0, max=2732.0), HTML(value='')))"
      ]
     },
     "metadata": {},
     "output_type": "display_data"
    }
   ],
   "source": [
    "licence_counts_out_of_copyright = licence_counts_by_institution('format:Photograph date:[* TO 1954]')"
   ]
  },
  {
   "cell_type": "code",
   "execution_count": null,
   "metadata": {},
   "outputs": [],
   "source": []
  }
 ],
 "metadata": {
  "kernelspec": {
   "display_name": "Python 3",
   "language": "python",
   "name": "python3"
  },
  "language_info": {
   "codemirror_mode": {
    "name": "ipython",
    "version": 3
   },
   "file_extension": ".py",
   "mimetype": "text/x-python",
   "name": "python",
   "nbconvert_exporter": "python",
   "pygments_lexer": "ipython3",
   "version": "3.7.3"
  }
 },
 "nbformat": 4,
 "nbformat_minor": 4
}
