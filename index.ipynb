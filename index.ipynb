{
 "cells": [
  {
   "cell_type": "markdown",
   "id": "0a270ffb",
   "metadata": {},
   "source": [
    "# trove-images\n",
    "\n",
    "A GLAM Workbench repository\n",
    "\n",
    "For more information and documentation see the [Trove images](https://glam-workbench.net/trove-images) section of the [GLAM Workbench](https://glam-workbench.net).\n",
    "\n",
    "## Notebooks\n",
    "- [Download a collection of digitised images](https://github.com/GLAM-Workbench/trove-images/blob/master/download-image-collection.ipynb)\n",
    "- [Save a collection of digitised images as an IIIF manifest](https://github.com/GLAM-Workbench/trove-images/blob/master/save-image-collection-iiif.ipynb)\n",
    "- [The use of standard licences and rights statements in Trove image records](https://github.com/GLAM-Workbench/trove-images/blob/master/rights-statements-on-images.ipynb)"
   ]
  },
  {
   "cell_type": "markdown",
   "id": "8e7df3bb",
   "metadata": {},
   "source": [
    "## Associated datasets\n",
    "- [trove-images-rights-data](https://github.com/GLAM-Workbench/trove-images-rights-data/)\n"
   ]
  },
  {
   "cell_type": "markdown",
   "id": "d346c5b1",
   "metadata": {},
   "source": [
    "----\n",
    "Created by [Tim Sherratt](https://timsherratt.au) for the [GLAM Workbench](https://glam-workbench.net)"
   ]
  }
 ],
 "metadata": {
  "jupytext": {
   "cell_metadata_filter": "-all"
  },
  "kernelspec": {
   "display_name": "Python 3 (ipykernel)",
   "language": "python",
   "name": "python3"
  }
 },
 "nbformat": 4,
 "nbformat_minor": 5
}
