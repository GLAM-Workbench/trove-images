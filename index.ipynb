{
 "cells": [
  {
   "cell_type": "markdown",
   "id": "58888059",
   "metadata": {},
   "source": [
    "# Trove images\n",
    "\n",
    "Current version: [v1.0.0](https://github.com/GLAM-Workbench/trove-images/releases/tag/v1.0.0)\n",
    "\n",
    "Jupyter notebooks to work with data from Trove's picture zone. For more information see the [Trove images](https://glam-workbench.net/trove-images/) section of the GLAM Workbench.\n",
    "\n",
    "## Notebook topics\n",
    "\n",
    "* [The use of standard licences and rights statements in Trove image records](rights-statements-on-images.ipynb) – build a picture of which rights statements are currently being used, and by who.\n",
    "\n",
    "## Datasets\n",
    "\n",
    "**Harvested 9 March 2022**\n",
    "\n",
    "* [Rights applied to images by each Trove contributor](https://github.com/GLAM-Workbench/trove-images/blob/master/rights-on-images.csv)\n",
    "* [Rights applied to out-of-copyright photographs by each Trove contributor](https://github.com/GLAM-Workbench/trove-images/blob/master/rights-on-out-of-copyright-photos.csv)"
   ]
  },
  {
   "cell_type": "markdown",
   "id": "5115f330",
   "metadata": {},
   "source": [
    "## Cite as\n",
    "\n",
    "See the [GLAM Workbench](https://glam-workbench.net/trove-images/) for up-to-date citation details.\n",
    "\n",
    "----\n",
    "\n",
    "This repository is part of the [GLAM Workbench](https://glam-workbench.github.io/).  "
   ]
  }
 ],
 "metadata": {
  "jupytext": {
   "cell_metadata_filter": "-all"
  },
  "kernelspec": {
   "display_name": "Python 3 (ipykernel)",
   "language": "python",
   "name": "python3"
  }
 },
 "nbformat": 4,
 "nbformat_minor": 5
}
